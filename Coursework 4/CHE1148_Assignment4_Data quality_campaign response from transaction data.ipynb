{
 "cells": [
  {
   "cell_type": "markdown",
   "id": "bf8f04ed",
   "metadata": {},
   "source": [
    "# CHE1148 Assignment 4\n",
    "\n",
    "#### YANBIN ZHANG 1008879732"
   ]
  },
  {
   "cell_type": "code",
   "execution_count": null,
   "id": "d64657f3",
   "metadata": {},
   "outputs": [],
   "source": [
    "import pandas as pd\n",
    "import numpy as np\n",
    "import matplotlib.pyplot as plt\n",
    "import seaborn as sns\n",
    "from sklearn import linear_model\n",
    "from sklearn.model_selection import train_test_split\n",
    "from sklearn.preprocessing import StandardScaler\n",
    "from sklearn.ensemble import RandomForestClassifier\n",
    "from sklearn.model_selection import GridSearchCV\n",
    "\n",
    "import warnings\n",
    "warnings.filterwarnings(\"ignore\")"
   ]
  },
  {
   "cell_type": "markdown",
   "id": "c6be575d",
   "metadata": {},
   "source": [
    "### Import annual feature data; Extract X and y"
   ]
  },
  {
   "cell_type": "code",
   "execution_count": 58,
   "id": "943718fd",
   "metadata": {},
   "outputs": [],
   "source": [
    "annual_features = pd.read_csv('annual_features.csv')"
   ]
  },
  {
   "cell_type": "code",
   "execution_count": 59,
   "id": "16114f23",
   "metadata": {},
   "outputs": [],
   "source": [
    "X = annual_features.drop(['customer_id','response'], axis = 1)\n",
    "y = annual_features['response']\n"
   ]
  },
  {
   "cell_type": "markdown",
   "id": "bc057615",
   "metadata": {},
   "source": [
    "### Split train and test set and compute the completeness of X_train"
   ]
  },
  {
   "cell_type": "code",
   "execution_count": 60,
   "id": "c33a5266",
   "metadata": {},
   "outputs": [
    {
     "name": "stdout",
     "output_type": "stream",
     "text": [
      "The percentage of non-zero elements in X_train is: 85.73 %\n"
     ]
    }
   ],
   "source": [
    "X_train, X_test, y_train, y_test = train_test_split(X, y, test_size=2/3, random_state=1147)\n",
    "\n",
    "print(\"The percentage of non-zero elements in X_train is: {:.2f} %\".format(np.count_nonzero(X_train)/ X_train.size * 100))"
   ]
  },
  {
   "cell_type": "code",
   "execution_count": 61,
   "id": "5640014f",
   "metadata": {},
   "outputs": [],
   "source": [
    "colnames = X_train.columns\n",
    "completeness = []\n",
    "for i in range(len(X_train.columns)):\n",
    "    completeness.append(np.count_nonzero(X_train.iloc[:,i]) /len(X_train.iloc[:,i]) * 100)\n",
    "    # Since the dataset doesnot contain NaN value, count completeness using the non-zero counts"
   ]
  },
  {
   "cell_type": "markdown",
   "id": "eefcbf69",
   "metadata": {},
   "source": [
    "### Standardize the train and test set"
   ]
  },
  {
   "cell_type": "code",
   "execution_count": 62,
   "id": "96d9c289",
   "metadata": {},
   "outputs": [],
   "source": [
    "scaler = StandardScaler().fit(X_train)\n",
    "X_train = scaler.transform(X_train)\n",
    "X_test = scaler.transform(X_test)"
   ]
  },
  {
   "cell_type": "code",
   "execution_count": 64,
   "id": "2e4f4502",
   "metadata": {},
   "outputs": [],
   "source": [
    "rf = RandomForestClassifier(n_estimators = 500, max_features=\"auto\", random_state=1148)\n",
    "rf.fit(X_train, y_train) \n",
    "importances = rf.feature_importances_"
   ]
  },
  {
   "cell_type": "markdown",
   "id": "e56c6d41",
   "metadata": {},
   "source": [
    "Using GridSearchCV tuning the best parameters of random forest classifier, and fit the model get the feature importance."
   ]
  },
  {
   "cell_type": "markdown",
   "id": "d823ed53",
   "metadata": {},
   "source": [
    "### Create the completeness-feature importance graph"
   ]
  },
  {
   "cell_type": "code",
   "execution_count": 65,
   "id": "e146af6a",
   "metadata": {},
   "outputs": [
    {
     "data": {
      "text/html": [
       "<div>\n",
       "<style scoped>\n",
       "    .dataframe tbody tr th:only-of-type {\n",
       "        vertical-align: middle;\n",
       "    }\n",
       "\n",
       "    .dataframe tbody tr th {\n",
       "        vertical-align: top;\n",
       "    }\n",
       "\n",
       "    .dataframe thead th {\n",
       "        text-align: right;\n",
       "    }\n",
       "</style>\n",
       "<table border=\"1\" class=\"dataframe\">\n",
       "  <thead>\n",
       "    <tr style=\"text-align: right;\">\n",
       "      <th></th>\n",
       "      <th>Feature Importance</th>\n",
       "    </tr>\n",
       "  </thead>\n",
       "  <tbody>\n",
       "    <tr>\n",
       "      <th>2014_ann_txn_amt_sum</th>\n",
       "      <td>0.060078</td>\n",
       "    </tr>\n",
       "    <tr>\n",
       "      <th>2013_ann_txn_amt_sum</th>\n",
       "      <td>0.048179</td>\n",
       "    </tr>\n",
       "    <tr>\n",
       "      <th>2014_ann_txn_amt_ave</th>\n",
       "      <td>0.034487</td>\n",
       "    </tr>\n",
       "    <tr>\n",
       "      <th>Unnamed: 0</th>\n",
       "      <td>0.034056</td>\n",
       "    </tr>\n",
       "    <tr>\n",
       "      <th>2014_ann_txn_amt_cnt</th>\n",
       "      <td>0.033207</td>\n",
       "    </tr>\n",
       "    <tr>\n",
       "      <th>2013_ann_txn_amt_ave</th>\n",
       "      <td>0.031661</td>\n",
       "    </tr>\n",
       "    <tr>\n",
       "      <th>2013_ann_txn_amt_sem</th>\n",
       "      <td>0.030701</td>\n",
       "    </tr>\n",
       "    <tr>\n",
       "      <th>2014_ann_txn_amt_sem</th>\n",
       "      <td>0.029488</td>\n",
       "    </tr>\n",
       "    <tr>\n",
       "      <th>2012_ann_txn_amt_sem</th>\n",
       "      <td>0.029268</td>\n",
       "    </tr>\n",
       "    <tr>\n",
       "      <th>2012_ann_txn_amt_ave</th>\n",
       "      <td>0.029234</td>\n",
       "    </tr>\n",
       "  </tbody>\n",
       "</table>\n",
       "</div>"
      ],
      "text/plain": [
       "                      Feature Importance\n",
       "2014_ann_txn_amt_sum            0.060078\n",
       "2013_ann_txn_amt_sum            0.048179\n",
       "2014_ann_txn_amt_ave            0.034487\n",
       "Unnamed: 0                      0.034056\n",
       "2014_ann_txn_amt_cnt            0.033207\n",
       "2013_ann_txn_amt_ave            0.031661\n",
       "2013_ann_txn_amt_sem            0.030701\n",
       "2014_ann_txn_amt_sem            0.029488\n",
       "2012_ann_txn_amt_sem            0.029268\n",
       "2012_ann_txn_amt_ave            0.029234"
      ]
     },
     "execution_count": 65,
     "metadata": {},
     "output_type": "execute_result"
    }
   ],
   "source": [
    "feature_importance = pd.DataFrame(importances, index=colnames, columns=['Feature Importance'])\n",
    "feature_importance = feature_importance.sort_values(by=['Feature Importance'], ascending=False)\n",
    "feature_importance.head(10)"
   ]
  },
  {
   "cell_type": "code",
   "execution_count": 66,
   "id": "53a8c301",
   "metadata": {},
   "outputs": [
    {
     "data": {
      "text/html": [
       "<div>\n",
       "<style scoped>\n",
       "    .dataframe tbody tr th:only-of-type {\n",
       "        vertical-align: middle;\n",
       "    }\n",
       "\n",
       "    .dataframe tbody tr th {\n",
       "        vertical-align: top;\n",
       "    }\n",
       "\n",
       "    .dataframe thead th {\n",
       "        text-align: right;\n",
       "    }\n",
       "</style>\n",
       "<table border=\"1\" class=\"dataframe\">\n",
       "  <thead>\n",
       "    <tr style=\"text-align: right;\">\n",
       "      <th></th>\n",
       "      <th>Completeness</th>\n",
       "    </tr>\n",
       "  </thead>\n",
       "  <tbody>\n",
       "    <tr>\n",
       "      <th>Unnamed: 0</th>\n",
       "      <td>4.604734</td>\n",
       "    </tr>\n",
       "    <tr>\n",
       "      <th>2012_ann_txn_amt_sum</th>\n",
       "      <td>4.596853</td>\n",
       "    </tr>\n",
       "    <tr>\n",
       "      <th>2012_ann_txn_amt_cnt</th>\n",
       "      <td>4.596853</td>\n",
       "    </tr>\n",
       "    <tr>\n",
       "      <th>2012_ann_txn_amt_min</th>\n",
       "      <td>4.596853</td>\n",
       "    </tr>\n",
       "    <tr>\n",
       "      <th>2012_ann_txn_amt_max</th>\n",
       "      <td>4.596853</td>\n",
       "    </tr>\n",
       "    <tr>\n",
       "      <th>2012_ann_txn_amt_ave</th>\n",
       "      <td>4.596853</td>\n",
       "    </tr>\n",
       "    <tr>\n",
       "      <th>2014_ann_txn_amt_sum</th>\n",
       "      <td>4.592448</td>\n",
       "    </tr>\n",
       "    <tr>\n",
       "      <th>2014_ann_txn_amt_ave</th>\n",
       "      <td>4.592448</td>\n",
       "    </tr>\n",
       "    <tr>\n",
       "      <th>2014_ann_txn_amt_max</th>\n",
       "      <td>4.592448</td>\n",
       "    </tr>\n",
       "    <tr>\n",
       "      <th>2014_ann_txn_amt_min</th>\n",
       "      <td>4.592448</td>\n",
       "    </tr>\n",
       "  </tbody>\n",
       "</table>\n",
       "</div>"
      ],
      "text/plain": [
       "                      Completeness\n",
       "Unnamed: 0                4.604734\n",
       "2012_ann_txn_amt_sum      4.596853\n",
       "2012_ann_txn_amt_cnt      4.596853\n",
       "2012_ann_txn_amt_min      4.596853\n",
       "2012_ann_txn_amt_max      4.596853\n",
       "2012_ann_txn_amt_ave      4.596853\n",
       "2014_ann_txn_amt_sum      4.592448\n",
       "2014_ann_txn_amt_ave      4.592448\n",
       "2014_ann_txn_amt_max      4.592448\n",
       "2014_ann_txn_amt_min      4.592448"
      ]
     },
     "execution_count": 66,
     "metadata": {},
     "output_type": "execute_result"
    }
   ],
   "source": [
    "log_completeness = np.log(np.array(completeness))\n",
    "Completeness = pd.DataFrame(log_completeness, index=colnames, columns=['Completeness'])\n",
    "Completeness = Completeness.sort_values(by=['Completeness'], ascending=False)\n",
    "Completeness.head(10)"
   ]
  },
  {
   "cell_type": "code",
   "execution_count": 67,
   "id": "ddbc7892",
   "metadata": {},
   "outputs": [
    {
     "data": {
      "image/png": "[encoded data removed]",
      "text/plain": [
       "<Figure size 576x432 with 1 Axes>"
      ]
     },
     "metadata": {
      "needs_background": "light"
     },
     "output_type": "display_data"
    }
   ],
   "source": [
    "plt.figure(figsize=(8,6))\n",
    "log_completeness = np.log(np.array(completeness))\n",
    "plt.plot(log_completeness, importances, 'o', color='black')\n",
    "plt.xlabel('Completeness(%)-log scale')\n",
    "plt.ylabel('Feature Importance')\n",
    "plt.title('Completeness vs Feature Importance')\n",
    "plt.show()"
   ]
  },
  {
   "cell_type": "markdown",
   "id": "d6163542",
   "metadata": {},
   "source": [
    "#### Comment"
   ]
  },
  {
   "cell_type": "markdown",
   "id": "25b7b924",
   "metadata": {},
   "source": [
    "There are no missing values in the current dataset since they were previously filled with 0 in previous assignments. The completeness of the dataset is determined by counting the non-zero elements in each column of the training set.\n",
    "\n",
    "The completeness-feature importance graph presented indicates a robust correlation between the completeness of the training set in logarithmic scale and feature importance. As the completeness of a feature increases, the feature importance also grows from 0.00 to 0.05. Features with a completeness greater than 4.5 (log scale) have higher feature importance, with the highest value being around 0.05.\n",
    "\n",
    "The graph highlights that higher completeness tends to have a higher feature importance. Therefore, it is recommended to redesign the data by prioritizing features with higher completeness, which means having fewer missing values in the data. During data collection, it is essential to gather all relevant information to maximize the completeness of the dataset."
   ]
  },
  {
   "cell_type": "code",
   "execution_count": null,
   "id": "d909ebc7",
   "metadata": {},
   "outputs": [],
   "source": []
  }
 ],
 "metadata": {
  "kernelspec": {
   "display_name": "Python 3 (ipykernel)",
   "language": "python",
   "name": "python3"
  },
  "language_info": {
   "codemirror_mode": {
    "name": "ipython",
    "version": 3
   },
   "file_extension": ".py",
   "mimetype": "text/x-python",
   "name": "python",
   "nbconvert_exporter": "python",
   "pygments_lexer": "ipython3",
   "version": "3.9.12"
  }
 },
 "nbformat": 4,
 "nbformat_minor": 5
}
